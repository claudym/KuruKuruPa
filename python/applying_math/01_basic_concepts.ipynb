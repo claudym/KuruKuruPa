{
 "cells": [
  {
   "cell_type": "markdown",
   "metadata": {},
   "source": [
    "# NumPy arrays"
   ]
  },
  {
   "cell_type": "code",
   "execution_count": 10,
   "metadata": {},
   "outputs": [
    {
     "name": "stdout",
     "output_type": "stream",
     "text": [
      "[1 2 3 4]\n",
      "int64\n"
     ]
    }
   ],
   "source": [
    "# numpy makes use of low-level libraries for working with vector and matrices such as\n",
    "# Linear Algebra Subprograms (BLAS) and the Linear Algebra Package (LAPACK)\n",
    "import numpy as np\n",
    "\n",
    "# int array\n",
    "ary = np.array([1, 2, 3, 4])\n",
    "print(ary)\n",
    "print(ary.dtype)"
   ]
  },
  {
   "cell_type": "code",
   "execution_count": 7,
   "metadata": {},
   "outputs": [
    {
     "data": {
      "text/plain": [
       "array([1., 2., 3., 4.])"
      ]
     },
     "execution_count": 7,
     "metadata": {},
     "output_type": "execute_result"
    }
   ],
   "source": [
    "# float array\n",
    "np.array([1, 2, 3, 4], dtype=np.float64)"
   ]
  },
  {
   "cell_type": "code",
   "execution_count": 12,
   "metadata": {},
   "outputs": [
    {
     "name": "stdout",
     "output_type": "stream",
     "text": [
      "[2 3 5 7]\n",
      "int64\n",
      "[2. 3. 5. 7.]\n",
      "float64\n"
     ]
    }
   ],
   "source": [
    "# change array type\n",
    "arr = np.array([2, 3, 5, 7])\n",
    "print(arr)\n",
    "print(arr.dtype)\n",
    "arr = arr.astype(np.float64)\n",
    "print(arr)\n",
    "print(arr.dtype)"
   ]
  },
  {
   "cell_type": "code",
   "execution_count": 19,
   "metadata": {},
   "outputs": [
    {
     "name": "stdout",
     "output_type": "stream",
     "text": [
      "0\n",
      "2\n"
     ]
    }
   ],
   "source": [
    "# element access: arr[i]\n",
    "ary = np.array([0, 2, 4, 6])\n",
    "print(ary[0])\n",
    "print(ary[1])"
   ]
  },
  {
   "cell_type": "code",
   "execution_count": 23,
   "metadata": {},
   "outputs": [
    {
     "name": "stdout",
     "output_type": "stream",
     "text": [
      "[0 2]\n",
      "[2 6]\n"
     ]
    }
   ],
   "source": [
    "# slicing too: arr[start:stop:step]\n",
    "futatsu = ary[:2]\n",
    "print(futatsu)\n",
    "suri_x = ary[1::2]\n",
    "print(suri_x)"
   ]
  },
  {
   "cell_type": "code",
   "execution_count": 32,
   "metadata": {},
   "outputs": [
    {
     "name": "stdout",
     "output_type": "stream",
     "text": [
      "2 * arr_1 = [ 10   6 -18  16]\n",
      "arr_0 + arr_1  = [ 7  8 -2 11]\n",
      "arr_0 - arr_1  = [-3  2 16 -5]\n",
      "arr_0 * arr_1  = [ 10  15 -63  24]\n",
      "arr_0 / arr_1  = [ 0.4         1.66666667 -0.77777778  0.375     ]\n",
      "arr_1 ** arr_0 = [-3  2 16 -5]\n"
     ]
    }
   ],
   "source": [
    "# array arithmetics\n",
    "arr_0 = np.array([2, 5, 7, 3])\n",
    "arr_1 = np.array([5, 3, -9, 8])\n",
    "print('2 * arr_1 =', 2 * arr_1)\n",
    "print('arr_0 + arr_1  =', arr_0 + arr_1)\n",
    "print('arr_0 - arr_1  =', arr_0 - arr_1)\n",
    "print('arr_0 * arr_1  =', arr_0 * arr_1)\n",
    "print('arr_0 / arr_1  =', arr_0 / arr_1)\n",
    "print('arr_1 ** arr_0 =', arr_0 - arr_1)"
   ]
  },
  {
   "cell_type": "code",
   "execution_count": 33,
   "metadata": {},
   "outputs": [
    {
     "data": {
      "text/plain": [
       "array([0.  , 0.25, 0.5 , 0.75, 1.  ])"
      ]
     },
     "execution_count": 33,
     "metadata": {},
     "output_type": "execute_result"
    }
   ],
   "source": [
    "# create array of numbers at regular intervals\n",
    "np.linspace(0, 1, 5)  # (start, inclusive_end, n_elem)"
   ]
  },
  {
   "cell_type": "code",
   "execution_count": 34,
   "metadata": {},
   "outputs": [
    {
     "data": {
      "text/plain": [
       "array([0. , 0.3, 0.6, 0.9])"
      ]
     },
     "execution_count": 34,
     "metadata": {},
     "output_type": "execute_result"
    }
   ],
   "source": [
    "np.arange(0, 1, 0.3)  # (start, end, step)"
   ]
  },
  {
   "cell_type": "code",
   "execution_count": 36,
   "metadata": {},
   "outputs": [
    {
     "name": "stdout",
     "output_type": "stream",
     "text": [
      "(2, 2)\n",
      "(2,)\n"
     ]
    }
   ],
   "source": [
    "# higher dimensional arrays\n",
    "mat = np.array([[3, 4], [7, 6]])\n",
    "vec = np.array([1, 2])\n",
    "print(mat.shape)  # the number of element in the shape tuple in the number of dimensions\n",
    "print(vec.shape)  # the values of the elements are the number of elements inside each dimension (each nested array)"
   ]
  },
  {
   "cell_type": "code",
   "execution_count": 37,
   "metadata": {},
   "outputs": [
    {
     "data": {
      "text/plain": [
       "array([3, 4, 7, 6])"
      ]
     },
     "execution_count": 37,
     "metadata": {},
     "output_type": "execute_result"
    }
   ],
   "source": [
    "# reshape to flat array\n",
    "mat.reshape(4,)"
   ]
  },
  {
   "cell_type": "code",
   "execution_count": 55,
   "metadata": {},
   "outputs": [
    {
     "data": {
      "text/plain": [
       "2"
      ]
     },
     "execution_count": 55,
     "metadata": {},
     "output_type": "execute_result"
    }
   ],
   "source": [
    "# dimensions can also be checked this way:\n",
    "mat.ndim"
   ]
  },
  {
   "cell_type": "code",
   "execution_count": 45,
   "metadata": {},
   "outputs": [
    {
     "name": "stdout",
     "output_type": "stream",
     "text": [
      "arr_3d =\n",
      "[[[ 1  2]\n",
      "  [ 3  4]]\n",
      "\n",
      " [[ 5  6]\n",
      "  [ 7  8]]\n",
      "\n",
      " [[ 9 10]\n",
      "  [11 12]]]\n",
      "arr_3d.shape: (3, 2, 2)\n"
     ]
    }
   ],
   "source": [
    "# higher dimensional arrays\n",
    "mat1 = [[1, 2], [3, 4]]\n",
    "mat2 = [[5, 6], [7, 8]]\n",
    "mat3 = [[9, 10], [11, 12]]\n",
    "arr_3d = np.array([mat1, mat2, mat3])\n",
    "print(f'arr_3d =\\n{arr_3d}')\n",
    "print('arr_3d.shape:', arr_3d.shape)"
   ]
  },
  {
   "cell_type": "code",
   "execution_count": 47,
   "metadata": {},
   "outputs": [
    {
     "name": "stdout",
     "output_type": "stream",
     "text": [
      "[[3 4]\n",
      " [7 6]]\n"
     ]
    },
    {
     "data": {
      "text/plain": [
       "7"
      ]
     },
     "execution_count": 47,
     "metadata": {},
     "output_type": "execute_result"
    }
   ],
   "source": [
    "# access an element in a multi-dimensional array\n",
    "print(mat)\n",
    "mat[1, 0]"
   ]
  },
  {
   "cell_type": "code",
   "execution_count": 48,
   "metadata": {},
   "outputs": [
    {
     "data": {
      "text/plain": [
       "array([3, 7])"
      ]
     },
     "execution_count": 48,
     "metadata": {},
     "output_type": "execute_result"
    }
   ],
   "source": [
    "# also supports slicing\n",
    "mat[:, 0]  # all members of a single column (0th column)"
   ]
  },
  {
   "cell_type": "markdown",
   "metadata": {},
   "source": [
    "# Matrices"
   ]
  },
  {
   "cell_type": "code",
   "execution_count": 51,
   "metadata": {},
   "outputs": [
    {
     "data": {
      "text/plain": [
       "array([[1., 0., 0.],\n",
       "       [0., 1., 0.],\n",
       "       [0., 0., 1.]])"
      ]
     },
     "execution_count": 51,
     "metadata": {},
     "output_type": "execute_result"
    }
   ],
   "source": [
    "# identity matrix\n",
    "np.eye(3)  # np.identity(3) also works"
   ]
  },
  {
   "cell_type": "code",
   "execution_count": 53,
   "metadata": {},
   "outputs": [
    {
     "name": "stdout",
     "output_type": "stream",
     "text": [
      "[[1 3]\n",
      " [2 4]]\n",
      "[[1 3]\n",
      " [2 4]]\n"
     ]
    }
   ],
   "source": [
    "# transpose of a matrix\n",
    "mat = np.array([[1, 2], [3, 4]])\n",
    "print(mat.transpose())\n",
    "print(mat.T)  # object property that returns the transpose"
   ]
  },
  {
   "cell_type": "code",
   "execution_count": 54,
   "metadata": {},
   "outputs": [
    {
     "data": {
      "text/plain": [
       "5"
      ]
     },
     "execution_count": 54,
     "metadata": {},
     "output_type": "execute_result"
    }
   ],
   "source": [
    "# trace of a matrix: the sum of the elements along the leading diagonal\n",
    "mat.trace()"
   ]
  },
  {
   "cell_type": "code",
   "execution_count": 56,
   "metadata": {},
   "outputs": [
    {
     "data": {
      "text/plain": [
       "array([[-1,  3],\n",
       "       [-3,  7]])"
      ]
     },
     "execution_count": 56,
     "metadata": {},
     "output_type": "execute_result"
    }
   ],
   "source": [
    "# Matrix Multiplication\n",
    "A = np.array([[1, 2], [3, 4]])\n",
    "B = np.array([[-1, 1], [0, 1]])\n",
    "A @ B  # matrix multiplication operator= @"
   ]
  },
  {
   "cell_type": "code",
   "execution_count": 57,
   "metadata": {},
   "outputs": [
    {
     "data": {
      "text/plain": [
       "array([[-1,  2],\n",
       "       [ 0,  4]])"
      ]
     },
     "execution_count": 57,
     "metadata": {},
     "output_type": "execute_result"
    }
   ],
   "source": [
    "# keep in mind this is different from component-wise multiplication:\n",
    "A * B"
   ]
  },
  {
   "cell_type": "code",
   "execution_count": 62,
   "metadata": {},
   "outputs": [
    {
     "data": {
      "text/plain": [
       "array([[2, 3],\n",
       "       [5, 7]])"
      ]
     },
     "execution_count": 62,
     "metadata": {},
     "output_type": "execute_result"
    }
   ],
   "source": [
    "# the Identity Matrix is a neutral element under matrix multiplication\n",
    "A = np.array([[2, 3], [5, 7]])\n",
    "I = np.eye(2, dtype=np.int64)  # identity matrix of ints (otherwise it would be floats)\n",
    "A @ I"
   ]
  },
  {
   "cell_type": "code",
   "execution_count": 64,
   "metadata": {},
   "outputs": [
    {
     "data": {
      "text/plain": [
       "-0.9999999999999987"
      ]
     },
     "execution_count": 64,
     "metadata": {},
     "output_type": "execute_result"
    }
   ],
   "source": [
    "# Determinants and Inverses\n",
    "from numpy import linalg\n",
    "\n",
    "# Determinant: a scalar value that is a function of the entries of a square matrix\n",
    "# It allows characterizing some properties of the matrix and the linear map represented by the matrix\n",
    "linalg.det(A)  "
   ]
  }
 ],
 "metadata": {
  "kernelspec": {
   "display_name": ".venv",
   "language": "python",
   "name": ".venv"
  },
  "language_info": {
   "codemirror_mode": {
    "name": "ipython",
    "version": 3
   },
   "file_extension": ".py",
   "mimetype": "text/x-python",
   "name": "python",
   "nbconvert_exporter": "python",
   "pygments_lexer": "ipython3",
   "version": "3.10.5"
  },
  "orig_nbformat": 4,
  "vscode": {
   "interpreter": {
    "hash": "e7370f93d1d0cde622a1f8e1c04877d8463912d04d973331ad4851f04de6915a"
   }
  }
 },
 "nbformat": 4,
 "nbformat_minor": 2
}
